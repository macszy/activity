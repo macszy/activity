{
 "cells": [
  {
   "cell_type": "code",
   "execution_count": 1,
   "id": "73be960e-5008-4778-ae0c-73c06ec307e6",
   "metadata": {},
   "outputs": [],
   "source": [
    "import pandas as pd "
   ]
  },
  {
   "cell_type": "code",
   "execution_count": 2,
   "id": "d6f2f1cc-1ab3-44e5-9f47-0dfe1c44a709",
   "metadata": {},
   "outputs": [],
   "source": [
    "#read csv (comma separated value) into data\n",
    "data = pd.read_csv('water_qualityfinalt.csv')"
   ]
  },
  {
   "cell_type": "code",
   "execution_count": 4,
   "id": "292683bc-ea16-4a87-8e30-f6a23f51b302",
   "metadata": {},
   "outputs": [
    {
     "data": {
      "text/html": [
       "<div>\n",
       "<style scoped>\n",
       "    .dataframe tbody tr th:only-of-type {\n",
       "        vertical-align: middle;\n",
       "    }\n",
       "\n",
       "    .dataframe tbody tr th {\n",
       "        vertical-align: top;\n",
       "    }\n",
       "\n",
       "    .dataframe thead th {\n",
       "        text-align: right;\n",
       "    }\n",
       "</style>\n",
       "<table border=\"1\" class=\"dataframe\">\n",
       "  <thead>\n",
       "    <tr style=\"text-align: right;\">\n",
       "      <th></th>\n",
       "      <th>ph</th>\n",
       "      <th>dissolved_oxygen</th>\n",
       "      <th>turbidity</th>\n",
       "      <th>conductivity</th>\n",
       "      <th>tds</th>\n",
       "      <th>nitrate</th>\n",
       "      <th>phosphate</th>\n",
       "      <th>temperature</th>\n",
       "      <th>bod</th>\n",
       "      <th>water_quality</th>\n",
       "    </tr>\n",
       "  </thead>\n",
       "  <tbody>\n",
       "    <tr>\n",
       "      <th>0</th>\n",
       "      <td>7.24908</td>\n",
       "      <td>10.18897</td>\n",
       "      <td>1.007151</td>\n",
       "      <td>335.494982</td>\n",
       "      <td>204.682274</td>\n",
       "      <td>41.462187</td>\n",
       "      <td>3.366788</td>\n",
       "      <td>15.730391</td>\n",
       "      <td>6.147963</td>\n",
       "      <td>3</td>\n",
       "    </tr>\n",
       "  </tbody>\n",
       "</table>\n",
       "</div>"
      ],
      "text/plain": [
       "        ph  dissolved_oxygen  turbidity  conductivity        tds     nitrate  \\\n",
       "0  7.24908          10.18897   1.007151    335.494982  204.682274  41.462187   \n",
       "\n",
       "   phosphate   temperature      bod   water_quality  \n",
       "0    3.366788    15.730391  6.147963              3  "
      ]
     },
     "execution_count": 4,
     "metadata": {},
     "output_type": "execute_result"
    }
   ],
   "source": [
    "#head or tail\n",
    "data.head(1)"
   ]
  },
  {
   "cell_type": "code",
   "execution_count": 5,
   "id": "dc0727af-5f0e-4f13-a0a5-30880b68fb2a",
   "metadata": {},
   "outputs": [
    {
     "data": {
      "text/plain": [
       "Index(['ph', 'dissolved_oxygen', 'turbidity', 'conductivity', 'tds ',\n",
       "       'nitrate', 'phosphate ', 'temperature', 'bod ', 'water_quality'],\n",
       "      dtype='object')"
      ]
     },
     "execution_count": 5,
     "metadata": {},
     "output_type": "execute_result"
    }
   ],
   "source": [
    "data.columns"
   ]
  },
  {
   "cell_type": "code",
   "execution_count": 6,
   "id": "9d311c5f-8fa8-4a0f-ab2c-c15a19e1bbc5",
   "metadata": {},
   "outputs": [
    {
     "data": {
      "text/plain": [
       "(500, 10)"
      ]
     },
     "execution_count": 6,
     "metadata": {},
     "output_type": "execute_result"
    }
   ],
   "source": [
    "data.shape"
   ]
  },
  {
   "cell_type": "code",
   "execution_count": 7,
   "id": "137c48ba-24c5-4305-b9d4-6fe928161b14",
   "metadata": {},
   "outputs": [
    {
     "data": {
      "text/html": [
       "<div>\n",
       "<style scoped>\n",
       "    .dataframe tbody tr th:only-of-type {\n",
       "        vertical-align: middle;\n",
       "    }\n",
       "\n",
       "    .dataframe tbody tr th {\n",
       "        vertical-align: top;\n",
       "    }\n",
       "\n",
       "    .dataframe thead th {\n",
       "        text-align: right;\n",
       "    }\n",
       "</style>\n",
       "<table border=\"1\" class=\"dataframe\">\n",
       "  <thead>\n",
       "    <tr style=\"text-align: right;\">\n",
       "      <th></th>\n",
       "      <th>ph</th>\n",
       "      <th>dissolved_oxygen</th>\n",
       "      <th>turbidity</th>\n",
       "      <th>conductivity</th>\n",
       "      <th>tds</th>\n",
       "      <th>nitrate</th>\n",
       "      <th>phosphate</th>\n",
       "      <th>temperature</th>\n",
       "      <th>bod</th>\n",
       "      <th>water_quality</th>\n",
       "    </tr>\n",
       "  </thead>\n",
       "  <tbody>\n",
       "    <tr>\n",
       "      <th>count</th>\n",
       "      <td>500.000000</td>\n",
       "      <td>500.000000</td>\n",
       "      <td>500.000000</td>\n",
       "      <td>500.000000</td>\n",
       "      <td>500.000000</td>\n",
       "      <td>500.000000</td>\n",
       "      <td>500.000000</td>\n",
       "      <td>500.000000</td>\n",
       "      <td>500.000000</td>\n",
       "      <td>500.00000</td>\n",
       "    </tr>\n",
       "    <tr>\n",
       "      <th>mean</th>\n",
       "      <td>7.497123</td>\n",
       "      <td>8.891708</td>\n",
       "      <td>2.636035</td>\n",
       "      <td>323.062069</td>\n",
       "      <td>299.937444</td>\n",
       "      <td>25.495908</td>\n",
       "      <td>2.494222</td>\n",
       "      <td>19.658200</td>\n",
       "      <td>5.386139</td>\n",
       "      <td>2.00000</td>\n",
       "    </tr>\n",
       "    <tr>\n",
       "      <th>std</th>\n",
       "      <td>0.597377</td>\n",
       "      <td>1.712961</td>\n",
       "      <td>1.456245</td>\n",
       "      <td>157.855421</td>\n",
       "      <td>114.323663</td>\n",
       "      <td>14.638303</td>\n",
       "      <td>1.412108</td>\n",
       "      <td>5.800797</td>\n",
       "      <td>2.545344</td>\n",
       "      <td>0.70213</td>\n",
       "    </tr>\n",
       "    <tr>\n",
       "      <th>min</th>\n",
       "      <td>6.510123</td>\n",
       "      <td>6.027792</td>\n",
       "      <td>0.124206</td>\n",
       "      <td>51.770045</td>\n",
       "      <td>100.626042</td>\n",
       "      <td>0.500576</td>\n",
       "      <td>0.019941</td>\n",
       "      <td>10.013068</td>\n",
       "      <td>1.000276</td>\n",
       "      <td>1.00000</td>\n",
       "    </tr>\n",
       "    <tr>\n",
       "      <th>25%</th>\n",
       "      <td>6.982559</td>\n",
       "      <td>7.374595</td>\n",
       "      <td>1.282017</td>\n",
       "      <td>182.590849</td>\n",
       "      <td>207.244876</td>\n",
       "      <td>13.360802</td>\n",
       "      <td>1.256102</td>\n",
       "      <td>14.629031</td>\n",
       "      <td>3.164261</td>\n",
       "      <td>2.00000</td>\n",
       "    </tr>\n",
       "    <tr>\n",
       "      <th>50%</th>\n",
       "      <td>7.526327</td>\n",
       "      <td>8.830929</td>\n",
       "      <td>2.744718</td>\n",
       "      <td>329.890236</td>\n",
       "      <td>298.404991</td>\n",
       "      <td>25.341778</td>\n",
       "      <td>2.599624</td>\n",
       "      <td>19.175554</td>\n",
       "      <td>5.501069</td>\n",
       "      <td>2.00000</td>\n",
       "    </tr>\n",
       "    <tr>\n",
       "      <th>75%</th>\n",
       "      <td>8.012250</td>\n",
       "      <td>10.358021</td>\n",
       "      <td>3.908984</td>\n",
       "      <td>455.556938</td>\n",
       "      <td>397.317351</td>\n",
       "      <td>38.511368</td>\n",
       "      <td>3.631174</td>\n",
       "      <td>25.017430</td>\n",
       "      <td>7.286747</td>\n",
       "      <td>2.00000</td>\n",
       "    </tr>\n",
       "    <tr>\n",
       "      <th>max</th>\n",
       "      <td>8.485930</td>\n",
       "      <td>11.998306</td>\n",
       "      <td>4.997127</td>\n",
       "      <td>599.091131</td>\n",
       "      <td>498.175006</td>\n",
       "      <td>49.892132</td>\n",
       "      <td>4.994474</td>\n",
       "      <td>29.991154</td>\n",
       "      <td>9.979745</td>\n",
       "      <td>3.00000</td>\n",
       "    </tr>\n",
       "  </tbody>\n",
       "</table>\n",
       "</div>"
      ],
      "text/plain": [
       "               ph  dissolved_oxygen   turbidity  conductivity        tds   \\\n",
       "count  500.000000        500.000000  500.000000    500.000000  500.000000   \n",
       "mean     7.497123          8.891708    2.636035    323.062069  299.937444   \n",
       "std      0.597377          1.712961    1.456245    157.855421  114.323663   \n",
       "min      6.510123          6.027792    0.124206     51.770045  100.626042   \n",
       "25%      6.982559          7.374595    1.282017    182.590849  207.244876   \n",
       "50%      7.526327          8.830929    2.744718    329.890236  298.404991   \n",
       "75%      8.012250         10.358021    3.908984    455.556938  397.317351   \n",
       "max      8.485930         11.998306    4.997127    599.091131  498.175006   \n",
       "\n",
       "          nitrate  phosphate   temperature        bod   water_quality  \n",
       "count  500.000000  500.000000   500.000000  500.000000      500.00000  \n",
       "mean    25.495908    2.494222    19.658200    5.386139        2.00000  \n",
       "std     14.638303    1.412108     5.800797    2.545344        0.70213  \n",
       "min      0.500576    0.019941    10.013068    1.000276        1.00000  \n",
       "25%     13.360802    1.256102    14.629031    3.164261        2.00000  \n",
       "50%     25.341778    2.599624    19.175554    5.501069        2.00000  \n",
       "75%     38.511368    3.631174    25.017430    7.286747        2.00000  \n",
       "max     49.892132    4.994474    29.991154    9.979745        3.00000  "
      ]
     },
     "execution_count": 7,
     "metadata": {},
     "output_type": "execute_result"
    }
   ],
   "source": [
    "data.describe()"
   ]
  },
  {
   "cell_type": "code",
   "execution_count": 8,
   "id": "63cd917b-0d1d-4644-b032-3f9612ad6ed2",
   "metadata": {},
   "outputs": [
    {
     "name": "stdout",
     "output_type": "stream",
     "text": [
      "<class 'pandas.core.frame.DataFrame'>\n",
      "RangeIndex: 500 entries, 0 to 499\n",
      "Data columns (total 10 columns):\n",
      " #   Column            Non-Null Count  Dtype  \n",
      "---  ------            --------------  -----  \n",
      " 0   ph                500 non-null    float64\n",
      " 1   dissolved_oxygen  500 non-null    float64\n",
      " 2   turbidity         500 non-null    float64\n",
      " 3   conductivity      500 non-null    float64\n",
      " 4   tds               500 non-null    float64\n",
      " 5   nitrate           500 non-null    float64\n",
      " 6   phosphate         500 non-null    float64\n",
      " 7   temperature       500 non-null    float64\n",
      " 8   bod               500 non-null    float64\n",
      " 9   water_quality     500 non-null    int64  \n",
      "dtypes: float64(9), int64(1)\n",
      "memory usage: 39.2 KB\n"
     ]
    }
   ],
   "source": [
    "data.info()"
   ]
  },
  {
   "cell_type": "code",
   "execution_count": 9,
   "id": "d60b8fcd-464c-493c-8ac3-b5300b71463a",
   "metadata": {},
   "outputs": [
    {
     "data": {
      "text/plain": [
       "ph                  0\n",
       "dissolved_oxygen    0\n",
       "turbidity           0\n",
       "conductivity        0\n",
       "tds                 0\n",
       "nitrate             0\n",
       "phosphate           0\n",
       "temperature         0\n",
       "bod                 0\n",
       "water_quality       0\n",
       "dtype: int64"
      ]
     },
     "execution_count": 9,
     "metadata": {},
     "output_type": "execute_result"
    }
   ],
   "source": [
    "data.isnull().sum()"
   ]
  },
  {
   "cell_type": "code",
   "execution_count": 11,
   "id": "a9da1175-b68b-4cda-8ebc-0f3685430481",
   "metadata": {},
   "outputs": [
    {
     "name": "stderr",
     "output_type": "stream",
     "text": [
      "C:\\Users\\Michelle\\AppData\\Local\\Temp\\ipykernel_1120\\1151331333.py:1: FutureWarning: A value is trying to be set on a copy of a DataFrame or Series through chained assignment using an inplace method.\n",
      "The behavior will change in pandas 3.0. This inplace method will never work because the intermediate object on which we are setting values always behaves as a copy.\n",
      "\n",
      "For example, when doing 'df[col].method(value, inplace=True)', try using 'df.method({col: value}, inplace=True)' or df[col] = df[col].method(value) instead, to perform the operation inplace on the original object.\n",
      "\n",
      "\n",
      "  data['ph'].fillna(data['ph'].mean(), inplace=True)\n"
     ]
    }
   ],
   "source": [
    "data['ph'].fillna(data['ph'].mean(), inplace=True)"
   ]
  },
  {
   "cell_type": "code",
   "execution_count": 12,
   "id": "e079302c-2155-47b3-bf1e-62eb30d567c9",
   "metadata": {},
   "outputs": [],
   "source": [
    "import numpy as np"
   ]
  },
  {
   "cell_type": "code",
   "execution_count": 13,
   "id": "754a5937-e623-477c-90c2-b3a7be59338d",
   "metadata": {},
   "outputs": [
    {
     "data": {
      "text/html": [
       "<div>\n",
       "<style scoped>\n",
       "    .dataframe tbody tr th:only-of-type {\n",
       "        vertical-align: middle;\n",
       "    }\n",
       "\n",
       "    .dataframe tbody tr th {\n",
       "        vertical-align: top;\n",
       "    }\n",
       "\n",
       "    .dataframe thead th {\n",
       "        text-align: right;\n",
       "    }\n",
       "</style>\n",
       "<table border=\"1\" class=\"dataframe\">\n",
       "  <thead>\n",
       "    <tr style=\"text-align: right;\">\n",
       "      <th></th>\n",
       "      <th>ph</th>\n",
       "      <th>dissolved_oxygen</th>\n",
       "      <th>turbidity</th>\n",
       "      <th>conductivity</th>\n",
       "      <th>tds</th>\n",
       "      <th>nitrate</th>\n",
       "      <th>phosphate</th>\n",
       "      <th>temperature</th>\n",
       "      <th>bod</th>\n",
       "      <th>water_quality</th>\n",
       "    </tr>\n",
       "  </thead>\n",
       "  <tbody>\n",
       "    <tr>\n",
       "      <th>ph</th>\n",
       "      <td>1.000000</td>\n",
       "      <td>0.010354</td>\n",
       "      <td>0.053966</td>\n",
       "      <td>-0.014562</td>\n",
       "      <td>0.004400</td>\n",
       "      <td>-0.003653</td>\n",
       "      <td>-0.050631</td>\n",
       "      <td>0.007542</td>\n",
       "      <td>0.080283</td>\n",
       "      <td>0.158207</td>\n",
       "    </tr>\n",
       "    <tr>\n",
       "      <th>dissolved_oxygen</th>\n",
       "      <td>0.010354</td>\n",
       "      <td>1.000000</td>\n",
       "      <td>-0.025912</td>\n",
       "      <td>0.000523</td>\n",
       "      <td>-0.027506</td>\n",
       "      <td>0.025289</td>\n",
       "      <td>-0.028035</td>\n",
       "      <td>-0.009357</td>\n",
       "      <td>0.090012</td>\n",
       "      <td>0.179599</td>\n",
       "    </tr>\n",
       "    <tr>\n",
       "      <th>turbidity</th>\n",
       "      <td>0.053966</td>\n",
       "      <td>-0.025912</td>\n",
       "      <td>1.000000</td>\n",
       "      <td>0.005223</td>\n",
       "      <td>0.103376</td>\n",
       "      <td>0.047427</td>\n",
       "      <td>-0.013618</td>\n",
       "      <td>0.021045</td>\n",
       "      <td>0.071182</td>\n",
       "      <td>-0.077681</td>\n",
       "    </tr>\n",
       "    <tr>\n",
       "      <th>conductivity</th>\n",
       "      <td>-0.014562</td>\n",
       "      <td>0.000523</td>\n",
       "      <td>0.005223</td>\n",
       "      <td>1.000000</td>\n",
       "      <td>0.000256</td>\n",
       "      <td>-0.048202</td>\n",
       "      <td>0.008441</td>\n",
       "      <td>0.000207</td>\n",
       "      <td>0.025203</td>\n",
       "      <td>-0.024126</td>\n",
       "    </tr>\n",
       "    <tr>\n",
       "      <th>tds</th>\n",
       "      <td>0.004400</td>\n",
       "      <td>-0.027506</td>\n",
       "      <td>0.103376</td>\n",
       "      <td>0.000256</td>\n",
       "      <td>1.000000</td>\n",
       "      <td>-0.056618</td>\n",
       "      <td>-0.000037</td>\n",
       "      <td>0.013291</td>\n",
       "      <td>0.029542</td>\n",
       "      <td>-0.788384</td>\n",
       "    </tr>\n",
       "    <tr>\n",
       "      <th>nitrate</th>\n",
       "      <td>-0.003653</td>\n",
       "      <td>0.025289</td>\n",
       "      <td>0.047427</td>\n",
       "      <td>-0.048202</td>\n",
       "      <td>-0.056618</td>\n",
       "      <td>1.000000</td>\n",
       "      <td>-0.001821</td>\n",
       "      <td>-0.025875</td>\n",
       "      <td>-0.008222</td>\n",
       "      <td>0.125491</td>\n",
       "    </tr>\n",
       "    <tr>\n",
       "      <th>phosphate</th>\n",
       "      <td>-0.050631</td>\n",
       "      <td>-0.028035</td>\n",
       "      <td>-0.013618</td>\n",
       "      <td>0.008441</td>\n",
       "      <td>-0.000037</td>\n",
       "      <td>-0.001821</td>\n",
       "      <td>1.000000</td>\n",
       "      <td>0.068893</td>\n",
       "      <td>-0.013685</td>\n",
       "      <td>-0.036976</td>\n",
       "    </tr>\n",
       "    <tr>\n",
       "      <th>temperature</th>\n",
       "      <td>0.007542</td>\n",
       "      <td>-0.009357</td>\n",
       "      <td>0.021045</td>\n",
       "      <td>0.000207</td>\n",
       "      <td>0.013291</td>\n",
       "      <td>-0.025875</td>\n",
       "      <td>0.068893</td>\n",
       "      <td>1.000000</td>\n",
       "      <td>0.011697</td>\n",
       "      <td>-0.013042</td>\n",
       "    </tr>\n",
       "    <tr>\n",
       "      <th>bod</th>\n",
       "      <td>0.080283</td>\n",
       "      <td>0.090012</td>\n",
       "      <td>0.071182</td>\n",
       "      <td>0.025203</td>\n",
       "      <td>0.029542</td>\n",
       "      <td>-0.008222</td>\n",
       "      <td>-0.013685</td>\n",
       "      <td>0.011697</td>\n",
       "      <td>1.000000</td>\n",
       "      <td>0.030968</td>\n",
       "    </tr>\n",
       "    <tr>\n",
       "      <th>water_quality</th>\n",
       "      <td>0.158207</td>\n",
       "      <td>0.179599</td>\n",
       "      <td>-0.077681</td>\n",
       "      <td>-0.024126</td>\n",
       "      <td>-0.788384</td>\n",
       "      <td>0.125491</td>\n",
       "      <td>-0.036976</td>\n",
       "      <td>-0.013042</td>\n",
       "      <td>0.030968</td>\n",
       "      <td>1.000000</td>\n",
       "    </tr>\n",
       "  </tbody>\n",
       "</table>\n",
       "</div>"
      ],
      "text/plain": [
       "                        ph  dissolved_oxygen  turbidity  conductivity  \\\n",
       "ph                1.000000          0.010354   0.053966     -0.014562   \n",
       "dissolved_oxygen  0.010354          1.000000  -0.025912      0.000523   \n",
       "turbidity         0.053966         -0.025912   1.000000      0.005223   \n",
       "conductivity     -0.014562          0.000523   0.005223      1.000000   \n",
       "tds               0.004400         -0.027506   0.103376      0.000256   \n",
       "nitrate          -0.003653          0.025289   0.047427     -0.048202   \n",
       "phosphate        -0.050631         -0.028035  -0.013618      0.008441   \n",
       "temperature       0.007542         -0.009357   0.021045      0.000207   \n",
       "bod               0.080283          0.090012   0.071182      0.025203   \n",
       "water_quality     0.158207          0.179599  -0.077681     -0.024126   \n",
       "\n",
       "                      tds    nitrate  phosphate   temperature      bod   \\\n",
       "ph                0.004400 -0.003653   -0.050631     0.007542  0.080283   \n",
       "dissolved_oxygen -0.027506  0.025289   -0.028035    -0.009357  0.090012   \n",
       "turbidity         0.103376  0.047427   -0.013618     0.021045  0.071182   \n",
       "conductivity      0.000256 -0.048202    0.008441     0.000207  0.025203   \n",
       "tds               1.000000 -0.056618   -0.000037     0.013291  0.029542   \n",
       "nitrate          -0.056618  1.000000   -0.001821    -0.025875 -0.008222   \n",
       "phosphate        -0.000037 -0.001821    1.000000     0.068893 -0.013685   \n",
       "temperature       0.013291 -0.025875    0.068893     1.000000  0.011697   \n",
       "bod               0.029542 -0.008222   -0.013685     0.011697  1.000000   \n",
       "water_quality    -0.788384  0.125491   -0.036976    -0.013042  0.030968   \n",
       "\n",
       "                  water_quality  \n",
       "ph                     0.158207  \n",
       "dissolved_oxygen       0.179599  \n",
       "turbidity             -0.077681  \n",
       "conductivity          -0.024126  \n",
       "tds                   -0.788384  \n",
       "nitrate                0.125491  \n",
       "phosphate             -0.036976  \n",
       "temperature           -0.013042  \n",
       "bod                    0.030968  \n",
       "water_quality          1.000000  "
      ]
     },
     "execution_count": 13,
     "metadata": {},
     "output_type": "execute_result"
    }
   ],
   "source": [
    "data.corr()"
   ]
  },
  {
   "cell_type": "code",
   "execution_count": 14,
   "id": "54bd5a00-3216-4e44-b68b-48223800261d",
   "metadata": {},
   "outputs": [],
   "source": [
    "data.dropna(inplace=True)"
   ]
  },
  {
   "cell_type": "code",
   "execution_count": 21,
   "id": "31f0fecc",
   "metadata": {},
   "outputs": [],
   "source": [
    "from sklearn.model_selection import train_test_split"
   ]
  },
  {
   "cell_type": "code",
   "execution_count": 22,
   "id": "7e10d09e",
   "metadata": {},
   "outputs": [],
   "source": [
    "X = data.iloc[:,:-1].values"
   ]
  },
  {
   "cell_type": "code",
   "execution_count": 23,
   "id": "4a315296",
   "metadata": {},
   "outputs": [],
   "source": [
    "y = data['water_quality']"
   ]
  },
  {
   "cell_type": "code",
   "execution_count": 68,
   "id": "61139269",
   "metadata": {},
   "outputs": [],
   "source": [
    "X_train, X_test, y_train, y_test = train_test_split(X, y, test_size=0.2, random_state=42)"
   ]
  },
  {
   "cell_type": "code",
   "execution_count": 69,
   "id": "ae75a60c",
   "metadata": {},
   "outputs": [
    {
     "name": "stdout",
     "output_type": "stream",
     "text": [
      "Shape of X_train: (400, 9)\n",
      "Shape of y_train: (400,)\n"
     ]
    }
   ],
   "source": [
    "print(\"Shape of X_train:\", X_train.shape)  # Should be (400, 9) if test_size=0.2\n",
    "print(\"Shape of y_train:\", y_train.shape)"
   ]
  },
  {
   "cell_type": "code",
   "execution_count": null,
   "id": "aead905d",
   "metadata": {},
   "outputs": [],
   "source": []
  },
  {
   "cell_type": "code",
   "execution_count": 26,
   "id": "81174fb6",
   "metadata": {},
   "outputs": [],
   "source": [
    "from sklearn.tree import DecisionTreeClassifier #Import Decision Tree Classifier\n",
    "from sklearn import metrics #import scikit-lear metrics module for accuracy calculation"
   ]
  },
  {
   "cell_type": "code",
   "execution_count": 70,
   "id": "24d27ff3",
   "metadata": {},
   "outputs": [],
   "source": [
    "#create Decision Tree Classifier object\n",
    "clf = DecisionTreeClassifier()"
   ]
  },
  {
   "cell_type": "code",
   "execution_count": 67,
   "id": "d3a21c50",
   "metadata": {},
   "outputs": [
    {
     "name": "stdout",
     "output_type": "stream",
     "text": [
      "(500, 9)\n",
      "(500,)\n"
     ]
    }
   ],
   "source": [
    "print(X.shape)\n",
    "print(y.shape)"
   ]
  },
  {
   "cell_type": "code",
   "execution_count": 75,
   "id": "be20bd9a",
   "metadata": {},
   "outputs": [],
   "source": [
    "clf = clf.fit(X_train, y_train)"
   ]
  },
  {
   "cell_type": "code",
   "execution_count": 77,
   "id": "93095fde",
   "metadata": {},
   "outputs": [],
   "source": [
    "y_pred = clf.predict(X_test)\n"
   ]
  },
  {
   "cell_type": "code",
   "execution_count": 78,
   "id": "b7470bcd",
   "metadata": {},
   "outputs": [
    {
     "name": "stdout",
     "output_type": "stream",
     "text": [
      "Accuracy: 99.0\n"
     ]
    }
   ],
   "source": [
    "print(\"Accuracy:\",metrics.accuracy_score(y_test, y_pred)*100)"
   ]
  },
  {
   "cell_type": "code",
   "execution_count": 79,
   "id": "b7d9381d",
   "metadata": {},
   "outputs": [
    {
     "name": "stdout",
     "output_type": "stream",
     "text": [
      "|--- feature_4 <= 400.00\n",
      "|   |--- feature_4 <= 294.73\n",
      "|   |   |--- feature_1 <= 7.99\n",
      "|   |   |   |--- class: 2\n",
      "|   |   |--- feature_1 >  7.99\n",
      "|   |   |   |--- feature_0 <= 7.00\n",
      "|   |   |   |   |--- class: 2\n",
      "|   |   |   |--- feature_0 >  7.00\n",
      "|   |   |   |   |--- class: 3\n",
      "|   |--- feature_4 >  294.73\n",
      "|   |   |--- class: 2\n",
      "|--- feature_4 >  400.00\n",
      "|   |--- class: 1\n",
      "\n"
     ]
    }
   ],
   "source": [
    "from sklearn import tree\n",
    "\n",
    "text_representation = tree.export_text(clf)\n",
    "print(text_representation)"
   ]
  }
 ],
 "metadata": {
  "kernelspec": {
   "display_name": "Python 3",
   "language": "python",
   "name": "python3"
  },
  "language_info": {
   "codemirror_mode": {
    "name": "ipython",
    "version": 3
   },
   "file_extension": ".py",
   "mimetype": "text/x-python",
   "name": "python",
   "nbconvert_exporter": "python",
   "pygments_lexer": "ipython3",
   "version": "3.11.9"
  }
 },
 "nbformat": 4,
 "nbformat_minor": 5
}
